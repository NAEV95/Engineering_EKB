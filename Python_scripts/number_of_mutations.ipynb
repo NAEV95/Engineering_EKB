{
 "cells": [
  {
   "cell_type": "code",
   "execution_count": 5,
   "metadata": {
    "ExecuteTime": {
     "end_time": "2023-06-20T13:31:04.077173292Z",
     "start_time": "2023-06-20T13:31:04.040437719Z"
    },
    "collapsed": true
   },
   "outputs": [],
   "source": [
    "import pandas as pd\n",
    "import os\n",
    "import glob\n",
    "from Bio import PDB\n",
    "def compare_sequences(pdb_file, wild_type_pdb_file):\n",
    "    parser = PDB.PDBParser()\n",
    "\n",
    "    # Parse the current structure\n",
    "    structure = parser.get_structure(\"structure\", pdb_file)\n",
    "\n",
    "    # Parse the wild-type structure\n",
    "    wild_type_structure = parser.get_structure(\"wild_type_structure\", wild_type_pdb_file)\n",
    "\n",
    "    # Get the chains from the structures\n",
    "    chains = structure[0]\n",
    "    wild_type_chains = wild_type_structure[0]\n",
    "\n",
    "    # Initialize the mutation count\n",
    "    mutation_count = 0\n",
    "\n",
    "    # Compare the residues in each chain with the wild-type structure\n",
    "    for chain, wild_type_chain in zip(chains, wild_type_chains):\n",
    "        for residue, wild_type_residue in zip(chain, wild_type_chain):\n",
    "            residue_id = residue.get_resname() + str(residue.get_id()[1])\n",
    "            wild_type_residue_id = wild_type_residue.get_resname() + str(wild_type_residue.get_id()[1])\n",
    "            if residue_id != wild_type_residue_id:\n",
    "                mutation_count += 1\n",
    "\n",
    "    return mutation_count\n"
   ]
  },
  {
   "cell_type": "code",
   "execution_count": 6,
   "metadata": {
    "ExecuteTime": {
     "end_time": "2023-06-20T13:31:28.365179946Z",
     "start_time": "2023-06-20T13:31:06.349125799Z"
    },
    "collapsed": false
   },
   "outputs": [
    {
     "name": "stderr",
     "output_type": "stream",
     "text": [
      "IOPub data rate exceeded.\n",
      "The notebook server will temporarily stop sending output\n",
      "to the client in order to avoid crashing it.\n",
      "To change this limit, set the config variable\n",
      "`--NotebookApp.iopub_data_rate_limit`.\n",
      "\n",
      "Current values:\n",
      "NotebookApp.iopub_data_rate_limit=1000000.0 (bytes/sec)\n",
      "NotebookApp.rate_limit_window=3.0 (secs)\n",
      "\n",
      "/usr/ulocal/anaconda3/envs/Engineering_EKB/lib/python3.8/site-packages/Bio/PDB/PDBParser.py:395: PDBConstructionWarning: Ignoring unrecognized record 'END' at line 1845\n",
      "  warnings.warn(\n"
     ]
    }
   ],
   "source": [
    "# Directory containing the PDB files\n",
    "pdb_directory = \"/home/nick/Documents/PDBs\"\n",
    "\n",
    "# Wild-type PDB file\n",
    "wild_type_pdb_file = \"../data/wt.pdb\"\n",
    "\n",
    "mutations = {}  # Dictionary to store folder name as key and mutation count as value\n",
    "\n",
    "for folder_name in glob.glob(os.path.join(pdb_directory, \"*\")):\n",
    "    folder_base_name = os.path.basename(folder_name)\n",
    "    if os.path.isdir(folder_name):\n",
    "        for pdb_file in glob.glob(os.path.join(folder_name, \"*.pdb\")):\n",
    "            mutation_count = compare_sequences(pdb_file, wild_type_pdb_file)\n",
    "            mutations[folder_base_name] = mutations.get(folder_base_name, 0) + mutation_count\n",
    "\n",
    "# Create a DataFrame from the mutations dictionary\n",
    "df = pd.DataFrame(list(mutations.items()), columns=['folder_name', 'mutation_count'])\n"
   ]
  },
  {
   "cell_type": "code",
   "execution_count": 7,
   "metadata": {
    "ExecuteTime": {
     "end_time": "2023-06-20T13:37:33.073591858Z",
     "start_time": "2023-06-20T13:37:33.030394678Z"
    },
    "collapsed": false
   },
   "outputs": [
    {
     "data": {
      "text/html": [
       "<div>\n",
       "<style scoped>\n",
       "    .dataframe tbody tr th:only-of-type {\n",
       "        vertical-align: middle;\n",
       "    }\n",
       "\n",
       "    .dataframe tbody tr th {\n",
       "        vertical-align: top;\n",
       "    }\n",
       "\n",
       "    .dataframe thead th {\n",
       "        text-align: right;\n",
       "    }\n",
       "</style>\n",
       "<table border=\"1\" class=\"dataframe\">\n",
       "  <thead>\n",
       "    <tr style=\"text-align: right;\">\n",
       "      <th></th>\n",
       "      <th>folder_name</th>\n",
       "      <th>mutation_count</th>\n",
       "    </tr>\n",
       "  </thead>\n",
       "  <tbody>\n",
       "    <tr>\n",
       "      <th>0</th>\n",
       "      <td>105</td>\n",
       "      <td>4</td>\n",
       "    </tr>\n",
       "    <tr>\n",
       "      <th>1</th>\n",
       "      <td>1</td>\n",
       "      <td>5</td>\n",
       "    </tr>\n",
       "    <tr>\n",
       "      <th>2</th>\n",
       "      <td>10</td>\n",
       "      <td>2</td>\n",
       "    </tr>\n",
       "    <tr>\n",
       "      <th>3</th>\n",
       "      <td>101</td>\n",
       "      <td>6</td>\n",
       "    </tr>\n",
       "    <tr>\n",
       "      <th>4</th>\n",
       "      <td>103</td>\n",
       "      <td>5</td>\n",
       "    </tr>\n",
       "    <tr>\n",
       "      <th>...</th>\n",
       "      <td>...</td>\n",
       "      <td>...</td>\n",
       "    </tr>\n",
       "    <tr>\n",
       "      <th>307</th>\n",
       "      <td>95</td>\n",
       "      <td>6</td>\n",
       "    </tr>\n",
       "    <tr>\n",
       "      <th>308</th>\n",
       "      <td>96</td>\n",
       "      <td>7</td>\n",
       "    </tr>\n",
       "    <tr>\n",
       "      <th>309</th>\n",
       "      <td>98</td>\n",
       "      <td>2</td>\n",
       "    </tr>\n",
       "    <tr>\n",
       "      <th>310</th>\n",
       "      <td>97</td>\n",
       "      <td>7</td>\n",
       "    </tr>\n",
       "    <tr>\n",
       "      <th>311</th>\n",
       "      <td>99</td>\n",
       "      <td>2</td>\n",
       "    </tr>\n",
       "  </tbody>\n",
       "</table>\n",
       "<p>312 rows × 2 columns</p>\n",
       "</div>"
      ],
      "text/plain": [
       "    folder_name  mutation_count\n",
       "0           105               4\n",
       "1             1               5\n",
       "2            10               2\n",
       "3           101               6\n",
       "4           103               5\n",
       "..          ...             ...\n",
       "307          95               6\n",
       "308          96               7\n",
       "309          98               2\n",
       "310          97               7\n",
       "311          99               2\n",
       "\n",
       "[312 rows x 2 columns]"
      ]
     },
     "execution_count": 7,
     "metadata": {},
     "output_type": "execute_result"
    }
   ],
   "source": [
    "df"
   ]
  },
  {
   "cell_type": "code",
   "execution_count": 8,
   "metadata": {
    "ExecuteTime": {
     "end_time": "2023-06-20T13:38:42.047923606Z",
     "start_time": "2023-06-20T13:38:41.927061097Z"
    },
    "collapsed": false
   },
   "outputs": [
    {
     "name": "stderr",
     "output_type": "stream",
     "text": [
      "/tmp/ipykernel_5451/2649456957.py:7: UserWarning: \n",
      "\n",
      "`distplot` is a deprecated function and will be removed in seaborn v0.14.0.\n",
      "\n",
      "Please adapt your code to use either `displot` (a figure-level function with\n",
      "similar flexibility) or `histplot` (an axes-level function for histograms).\n",
      "\n",
      "For a guide to updating your code to use the new functions, please see\n",
      "https://gist.github.com/mwaskom/de44147ed2974457ad6372750bbe5751\n",
      "\n",
      "  sns.distplot(df['mutation_count'], kde=False, bins=20)\n"
     ]
    },
    {
     "data": {
      "image/png": "[encoded data removed]",
      "text/plain": [
       "<Figure size 1000x500 with 1 Axes>"
      ]
     },
     "metadata": {},
     "output_type": "display_data"
    }
   ],
   "source": [
    "# plot distribution of the mutation counts\n",
    "import matplotlib.pyplot as plt\n",
    "import seaborn as sns\n",
    "sns.set_style(\"whitegrid\")\n",
    "sns.set_context(\"paper\", font_scale=1.5)\n",
    "plt.figure(figsize=(10, 5))\n",
    "sns.distplot(df['mutation_count'], kde=False, bins=20)\n",
    "plt.xlabel(\"Mutation Count\")\n",
    "plt.ylabel(\"Frequency\")\n",
    "#plt.savefig(\"mutation_count_distribution.png\", dpi=300, bbox_inches=\"tight\")\n",
    "plt.show()"
   ]
  },
  {
   "cell_type": "code",
   "execution_count": 9,
   "metadata": {
    "ExecuteTime": {
     "end_time": "2023-06-20T14:09:36.134848994Z",
     "start_time": "2023-06-20T14:09:36.092817042Z"
    },
    "collapsed": false
   },
   "outputs": [
    {
     "name": "stdout",
     "output_type": "stream",
     "text": [
      "Percentage of mutations above or equal to 5: 24.68%\n"
     ]
    }
   ],
   "source": [
    "# print the percentage of mutations above or equal to 5\n",
    "print(\"Percentage of mutations above or equal to 5: {:.2f}%\".format(len(df[df['mutation_count'] >= 5]) / len(df) * 100))"
   ]
  }
 ],
 "metadata": {
  "kernelspec": {
   "display_name": "Python 3",
   "language": "python",
   "name": "python3"
  },
  "language_info": {
   "codemirror_mode": {
    "name": "ipython",
    "version": 2
   },
   "file_extension": ".py",
   "mimetype": "text/x-python",
   "name": "python",
   "nbconvert_exporter": "python",
   "pygments_lexer": "ipython2",
   "version": "2.7.6"
  }
 },
 "nbformat": 4,
 "nbformat_minor": 0
}
