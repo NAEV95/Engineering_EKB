{
 "cells": [
  {
   "cell_type": "code",
   "execution_count": 7,
   "metadata": {},
   "outputs": [
    {
     "ename": "ModuleNotFoundError",
     "evalue": "No module named 'pytraj'",
     "output_type": "error",
     "traceback": [
      "\u001b[1;31m---------------------------------------------------------------------------\u001b[0m",
      "\u001b[1;31mModuleNotFoundError\u001b[0m                       Traceback (most recent call last)",
      "Cell \u001b[1;32mIn[7], line 2\u001b[0m\n\u001b[0;32m      1\u001b[0m \u001b[38;5;28;01mimport\u001b[39;00m \u001b[38;5;21;01mnglview\u001b[39;00m \u001b[38;5;28;01mas\u001b[39;00m \u001b[38;5;21;01mnv\u001b[39;00m\n\u001b[1;32m----> 2\u001b[0m \u001b[38;5;28;01mimport\u001b[39;00m \u001b[38;5;21;01mpytraj\u001b[39;00m\n",
      "\u001b[1;31mModuleNotFoundError\u001b[0m: No module named 'pytraj'"
     ]
    }
   ],
   "source": [
    "import nglview as nv\n",
    "import pytraj"
   ]
  },
  {
   "cell_type": "code",
   "execution_count": 17,
   "metadata": {},
   "outputs": [
    {
     "name": "stdout",
     "output_type": "stream",
     "text": [
      "{5: 1, 8: 4, 11: 2, 21: 5, 22: 7, 24: 19, 27: 18, 28: 1, 29: 1, 32: 1, 33: 2, 38: 92, 40: 1, 43: 2, 48: 14, 50: 1, 54: 2, 56: 1, 63: 2, 66: 2, 70: 21, 74: 77, 75: 13, 76: 1, 84: 4, 86: 3, 88: 4, 91: 1, 96: 28, 99: 39, 100: 76, 101: 1, 111: 9, 114: 1, 115: 2, 124: 26, 125: 16, 127: 66, 128: 20, 129: 19, 130: 1, 135: 68, 137: 7, 141: 6, 142: 13, 147: 1, 149: 1, 150: 2, 156: 13, 158: 1, 160: 26, 162: 23, 165: 1, 167: 1, 169: 34, 170: 1, 173: 1, 175: 41, 179: 1, 180: 18, 182: 1, 188: 1, 191: 14, 200: 30, 204: 2, 214: 5, 216: 1, 222: 1, 224: 1, 235: 19}\n"
     ]
    }
   ],
   "source": [
    "from Bio import SeqIO\n",
    "import glob\n",
    "\n",
    "# Define the path to the wild_type fasta file\n",
    "wild_type_fasta_file = r'C:\\Users\\GGUK\\Desktop\\Engineering_EKB\\data\\FASTA\\wild_type.fasta'\n",
    "\n",
    "# Define the path to the protein variants fasta files\n",
    "protein_fastas = glob.glob(r'C:\\Users\\GGUK\\Desktop\\Engineering_EKB\\data\\FASTA\\*.fasta')\n",
    "variants_fasas = [x for x in protein_fastas if x != wild_type_fasta_file]\n",
    "\n",
    "# Create an empty dictionary to store the position and mutation count\n",
    "position_mutation_dict = {}\n",
    "\n",
    "# Read the wild_type fasta file\n",
    "wild_type_sequence = str(SeqIO.read(wild_type_fasta_file, 'fasta').seq)\n",
    "\n",
    "# Iterate over the protein variants fasta files\n",
    "for fasta_file in variants_fasas:\n",
    "    # Read the fasta file\n",
    "    variant_sequence = str(SeqIO.read(fasta_file, 'fasta').seq)\n",
    "    \n",
    "    # Ensure variant_sequence has the same length as wild_type_sequence\n",
    "    if len(variant_sequence) != len(wild_type_sequence):\n",
    "        continue\n",
    "    \n",
    "    # Compare the wild_type sequence with the variant sequence\n",
    "    for i in range(len(wild_type_sequence)):\n",
    "        if wild_type_sequence[i] != variant_sequence[i]:\n",
    "            # Get the position of the mutation\n",
    "            position = i + 1\n",
    "            \n",
    "            # Check if the position is already in the dictionary\n",
    "            if position in position_mutation_dict:\n",
    "                # Increment the mutation count\n",
    "                position_mutation_dict[position] += 1\n",
    "            else:\n",
    "                # Add the position to the dictionary with a count of 1\n",
    "                position_mutation_dict[position] = 1\n",
    "\n",
    "# Order the dictionary by keys\n",
    "position_mutation_dict = dict(sorted(position_mutation_dict.items()))\n",
    "\n",
    "# Print the position and mutation count dictionary\n",
    "print(position_mutation_dict)\n"
   ]
  },
  {
   "cell_type": "code",
   "execution_count": 27,
   "metadata": {},
   "outputs": [
    {
     "data": {
      "application/vnd.jupyter.widget-view+json": {
       "model_id": "3808b5f38d0e47008ad1374dc3ce7055",
       "version_major": 2,
       "version_minor": 0
      },
      "text/plain": [
       "NGLWidget()"
      ]
     },
     "metadata": {},
     "output_type": "display_data"
    }
   ],
   "source": [
    "import nglview as nv\n",
    "\n",
    "# Load the wild_type pdb file\n",
    "wild_type_pdb_file = r'C:\\Users\\GGUK\\Desktop\\Engineering_EKB\\data\\EKB1_model1_cys.pdb'\n",
    "view = nv.show_file(wild_type_pdb_file)\n",
    "\n",
    "# Color the mutated positions\n",
    "for position in position_mutation_dict:\n",
    "    view.add_cartoon(selection=f':{position}', color='red')\n",
    "\n",
    "# Display the visualization\n",
    "view\n"
   ]
  }
 ],
 "metadata": {
  "kernelspec": {
   "display_name": "MD-things",
   "language": "python",
   "name": "python3"
  },
  "language_info": {
   "codemirror_mode": {
    "name": "ipython",
    "version": 3
   },
   "file_extension": ".py",
   "mimetype": "text/x-python",
   "name": "python",
   "nbconvert_exporter": "python",
   "pygments_lexer": "ipython3",
   "version": "3.8.17"
  }
 },
 "nbformat": 4,
 "nbformat_minor": 2
}
