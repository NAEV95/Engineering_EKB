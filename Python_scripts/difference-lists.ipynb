{
 "cells": [
  {
   "cell_type": "code",
   "execution_count": 16,
   "metadata": {
    "collapsed": true
   },
   "outputs": [],
   "source": [
    "import os\n",
    "os.chdir('E:\\Batches_Sim\\Batch_2_test')"
   ]
  },
  {
   "cell_type": "code",
   "execution_count": 17,
   "outputs": [],
   "source": [
    "set1 = list([name for name in os.listdir(\".\") if os.path.isdir(name)])"
   ],
   "metadata": {
    "collapsed": false,
    "pycharm": {
     "name": "#%%\n"
    }
   }
  },
  {
   "cell_type": "code",
   "execution_count": 20,
   "outputs": [
    {
     "data": {
      "text/plain": "'E:\\\\Batches_Sim\\\\Batch_2_test'"
     },
     "execution_count": 20,
     "metadata": {},
     "output_type": "execute_result"
    }
   ],
   "source": [
    "os.getcwd()"
   ],
   "metadata": {
    "collapsed": false,
    "pycharm": {
     "name": "#%%\n"
    }
   }
  },
  {
   "cell_type": "code",
   "execution_count": 27,
   "outputs": [
    {
     "name": "stdout",
     "output_type": "stream",
     "text": [
      "35\n"
     ]
    }
   ],
   "source": [
    "path = r'E:\\Batch_Simulation_1\\lustre\\scratch\\ucbenae\\Batch_2\\Batch_2'\n",
    "os.chdir(path)\n",
    "set2 = list([name for name in os.listdir(\".\") if os.path.isdir(name)])\n",
    "set2\n",
    "print(len(set2))"
   ],
   "metadata": {
    "collapsed": false,
    "pycharm": {
     "name": "#%%\n"
    }
   }
  },
  {
   "cell_type": "code",
   "execution_count": 39,
   "outputs": [],
   "source": [
    "def Diff(li1, li2):\n",
    "    li_dif = [i for i in li1 + li2 if i not in li1 or i not in li2]\n",
    "    return li_dif"
   ],
   "metadata": {
    "collapsed": false,
    "pycharm": {
     "name": "#%%\n"
    }
   }
  },
  {
   "cell_type": "code",
   "execution_count": 41,
   "outputs": [
    {
     "name": "stdout",
     "output_type": "stream",
     "text": [
      "['1', '10', '100', '102', '105', '106', '108', '111', '113', '115', '119', '121', '123', '124', '127', '129', '13', '130', '132', '133', '134', '137', '138', '139', '14', '140', '143', '144', '145', '147', '149', '150', '153', '154', '156', '159', '16', '162', '164', '166', '168', '17', '171', '172', '175', '177', '178', '182', '186', '188', '19', '191', '193', '195', '196', '199', '2', '201', '203', '205', '206', '209', '21', '210', '212', '216', '218', '22', '220', '222', '224', '227', '228', '230', '231', '233', '234', '237', '239', '24', '240', '243', '244', '246', '247', '249', '25', '250', '253', '255', '257', '259', '26', '261', '265', '267', '268', '271', '272', '274', '276', '278', '28', '281', '283', '285', '289', '290', '292', '295', '296', '298', '3', '301', '302', '304', '306', '308', '31', '311', '312', '32', '35', '36', '37', '38', '40', '41', '42', '45', '48', '5', '51', '52', '53', '55', '56', '58', '59', '6', '60', '61', '63', '64', '69', '70', '72', '73', '77', '78', '79', '8', '80', '84', '85', '87', '9', '93', '96', '97', '99']\n"
     ]
    }
   ],
   "source": [
    "print(Diff(set2, set1))"
   ],
   "metadata": {
    "collapsed": false,
    "pycharm": {
     "name": "#%%\n"
    }
   }
  },
  {
   "cell_type": "code",
   "execution_count": 42,
   "outputs": [
    {
     "name": "stdout",
     "output_type": "stream",
     "text": [
      "Yes\n"
     ]
    }
   ],
   "source": [
    "result =  all(elem in set1  for elem in set2)\n",
    "if result:\n",
    "    print(\"Yes\")\n",
    "else:\n",
    "    print(\"No\")"
   ],
   "metadata": {
    "collapsed": false,
    "pycharm": {
     "name": "#%%\n"
    }
   }
  }
 ],
 "metadata": {
  "kernelspec": {
   "display_name": "Python 3",
   "language": "python",
   "name": "python3"
  },
  "language_info": {
   "codemirror_mode": {
    "name": "ipython",
    "version": 2
   },
   "file_extension": ".py",
   "mimetype": "text/x-python",
   "name": "python",
   "nbconvert_exporter": "python",
   "pygments_lexer": "ipython2",
   "version": "2.7.6"
  }
 },
 "nbformat": 4,
 "nbformat_minor": 0
}