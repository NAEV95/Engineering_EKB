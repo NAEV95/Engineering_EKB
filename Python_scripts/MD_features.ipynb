{
 "cells": [
  {
   "cell_type": "code",
   "execution_count": 2,
   "metadata": {
    "collapsed": true
   },
   "outputs": [],
   "source": [
    "import pytraj as pt\n",
    "import os\n",
    "os.chdir(\"/home/nick/Documents/200ns/100ns\")"
   ]
  },
  {
   "cell_type": "code",
   "execution_count": 209,
   "metadata": {
    "collapsed": false
   },
   "outputs": [
    {
     "name": "stdout",
     "output_type": "stream",
     "text": [
      "/home/nick/Documents/200ns/100ns/2\n",
      "[1.1199555]\n",
      "/home/nick/Documents/200ns/100ns/10\n",
      "[1.58466754]\n",
      "/home/nick/Documents/200ns/100ns/13\n",
      "[1.03327195]\n",
      "/home/nick/Documents/200ns/100ns/35\n",
      "[0.961863]\n",
      "/home/nick/Documents/200ns/100ns/56\n",
      "[1.10021664]\n",
      "/home/nick/Documents/200ns/100ns/59\n",
      "[1.3960611]\n",
      "/home/nick/Documents/200ns/100ns/152\n",
      "[1.03576033]\n",
      "/home/nick/Documents/200ns/100ns/211\n",
      "[1.70812312]\n",
      "/home/nick/Documents/200ns/100ns/223\n",
      "[1.12043038]\n",
      "/home/nick/Documents/200ns/100ns/235\n",
      "[0.93758819]\n",
      "/home/nick/Documents/200ns/100ns/236\n",
      "[1.23493985]\n",
      "/home/nick/Documents/200ns/100ns/249\n",
      "[1.14563625]\n",
      "/home/nick/Documents/200ns/100ns/266\n",
      "[1.89004014]\n",
      "/home/nick/Documents/200ns/100ns/272\n",
      "[1.35163138]\n",
      "/home/nick/Documents/200ns/100ns/290\n",
      "[1.26919154]\n"
     ]
    }
   ],
   "source": [
    "import os\n",
    "import pytraj as pt\n",
    "import collections\n",
    "import pandas as pd\n",
    "\n",
    "clusters_10ns =[4253, 6573, 6196, 3327, 3724, 7381, 8784, 4164, 2941, 3200, 4964, 6164, 4203, 4009, 4377]\n",
    "clusters_200ns = [16386, 9148, 13167, 8057, 12887, 15659, 8520, 16949, 13784, 10605, 13581, 12287, 9503, 8212, 4377]\n",
    "binding_site = [41, 89, 164, 182, 185, 187, 206, 207, 208, 218]\n",
    "\n",
    "\n",
    "\n",
    "\n",
    "# create an empty DataFrame to store the results\n",
    "columns = ['Radgyr_BB', 'Radgyr_NOH', 'Radgyr_CA', 'Radgyr_BS_CA', 'Radgyr_BS_BB', 'Radgyr_BS_NOH', 'RMSD_CA', 'RMSD_NOH', 'RMSD_BB', 'RMSD_BS_CA', 'RMSD_BS_NOH', 'RMSD_BS_BB', 'DSSP_0', 'DSSP_b', 'DSSP_B', 'DSSP_H', 'DSSP_I', 'DSSP_T', 'DSSP_S']\n",
    "results_10ns = pd.DataFrame(columns=columns)\n",
    "# iterate over subdirectories\n",
    "# Get a list of all directories in numerical order\n",
    "dir_list = sorted([d for d in os.listdir('/home/nick/Documents/200ns/100ns') if os.path.isdir(os.path.join('/home/nick/Documents/200ns/100ns', d))], key=lambda x: int(x))\n",
    "\n",
    "# Loop through all directories\n",
    "\n",
    "\n",
    "for dir, i in zip(dir_list,  clusters_10ns):\n",
    "    os.chdir(os.path.join('/home/nick/Documents/200ns/100ns', dir))\n",
    "    # load pdb file\n",
    "    traj = pt.iterload(\"md_0_1_noPBC.xtc\", \"first_frame.pdb\")\n",
    "    # print current directory\n",
    "    print(os.getcwd())\n",
    "\n",
    "\n",
    "    # select backbone atoms\n",
    "    radgyrBB = pt.radgyr(traj,  '@C,CA,N,O', frame_indices=[i])\n",
    "    # No H\n",
    "    radgyrNOH = pt.radgyr(traj, '!@H=', frame_indices=[i])\n",
    "    #Ca\n",
    "    radgyrCA = pt.radgyr(traj, '@CA', frame_indices=[i])\n",
    "\n",
    "    #### for bidning site ####\n",
    "\n",
    "    # CA\n",
    "    radgyrBSCA = pt.radgyr(traj, mask=':41,89,164,182,185,187,206,207,208,218&@CA', frame_indices=[i])\n",
    "\n",
    "    radgyrBSBB = pt.radgyr(traj, mask=':41,89,164,182,185,187,206,207,208,218&@C,CA,N,O', frame_indices=[i])\n",
    "\n",
    "    radgyrBSNOH = pt.radgyr(traj, mask=':41,89,164,182,185,187,206,207,208,218&!@H=', frame_indices=[i])\n",
    "\n",
    "    ###### RMSD #######################################################################\n",
    "    # RMSD\n",
    "\n",
    "    rmsdCA = pt.rmsd(traj, ref=0, mask='@CA', frame_indices=[i])\n",
    "    print(rmsdCA)\n",
    "    rmsdNOH = pt.rmsd(traj, ref=0, mask='@C,CA,N,O', frame_indices=[i])\n",
    "    rmsdBB = pt.rmsd(traj, ref=0, mask='!@H=', frame_indices=[i])\n",
    "\n",
    "    rmsdBSCA = pt.rmsd(traj, ref=0, mask=':41,89,164,182,185,187,206,207,208,218&@CA', frame_indices=[i])\n",
    "    rmsdBSNOH = pt.rmsd(traj, ref=0, mask=':41,89,164,182,185,187,206,207,208,218&@C,CA,N,O', frame_indices=[i])\n",
    "    rmsdBSBB = pt.rmsd(traj, ref=0, mask=':41,89,164,182,185,187,206,207,208,218&!@H=', frame_indices=[i])\n",
    "\n",
    "    ###### DSSP #######################################################################\n",
    "    # count the occurrences of each character\n",
    "    residues, ss, _ = pt.dssp(traj, frame_indices=[i])\n",
    "    char_list = ss[0].tolist()\n",
    "    # count the occurrences of each character\n",
    "    char_counts = collections.Counter(char_list)\n",
    "\n",
    "    # calculate the total number of characters\n",
    "    total_chars = sum(char_counts.values())\n",
    "\n",
    "    # calculate the percentage of each character\n",
    "    char_percentages = {char: (count / total_chars) * 100 for char, count in char_counts.items()}\n",
    "\n",
    "    dssp_0 = char_percentages.get('0', 0)\n",
    "    dssp_b = char_percentages.get('b', 0)\n",
    "    dssp_B = char_percentages.get('B', 0)\n",
    "    dssp_H = char_percentages.get('H', 0)\n",
    "    dssp_I = char_percentages.get('I', 0)\n",
    "    dssp_T = char_percentages.get('T', 0)\n",
    "    dssp_S = char_percentages.get('S', 0)\n",
    "\n",
    "\n",
    "    frame_results = {\n",
    "        'Radgyr_BB': radgyrBB[0],\n",
    "        'Radgyr_NOH': radgyrNOH[0],\n",
    "        'Radgyr_CA': radgyrCA[0],\n",
    "        'Radgyr_BS_CA': radgyrBSCA[0],\n",
    "        'Radgyr_BS_BB': radgyrBSBB[0],\n",
    "        'Radgyr_BS_NOH': radgyrBSNOH[0],\n",
    "        'RMSD_CA': rmsdCA[0],\n",
    "        'RMSD_NOH': rmsdNOH[0],\n",
    "        'RMSD_BB': rmsdBB[0],\n",
    "        'RMSD_BS_CA': rmsdBSCA[0],\n",
    "        'RMSD_BS_NOH': rmsdBSNOH[0],\n",
    "        'RMSD_BS_BB': rmsdBSBB[0],\n",
    "        'DSSP_0': dssp_0,\n",
    "        'DSSP_E': dssp_b,\n",
    "        'DSSP_C': dssp_B,\n",
    "        'DSSP_H': dssp_H,\n",
    "        'DSSP_I': dssp_I,\n",
    "        'DSSP_T': dssp_T,\n",
    "        'DSSP_S': dssp_S\n",
    "    }\n",
    "\n",
    "    # add the results for this frame to the DataFrame\n",
    "    results_10ns.loc[len(results_10ns)] = frame_results\n"
   ]
  },
  {
   "cell_type": "code",
   "execution_count": 193,
   "metadata": {
    "collapsed": false
   },
   "outputs": [],
   "source": [
    "clusters_10ns =[4253, 6573, 6196, 3327, 3724, 7381, 8784, 4164, 2941, 3200, 4964, 6164, 4203, 4009, 4377]\n",
    "clusters_200ns = [16386, 9148, 13167, 8057, 12887, 15659, 8520, 16949, 13784, 10605, 13581, 12287, 9503, 8212, 4377]\n",
    "binding_site = [41, 89, 164, 182, 185, 187, 206, 207, 208, 218]"
   ]
  },
  {
   "cell_type": "code",
   "execution_count": 208,
   "metadata": {
    "collapsed": false
   },
   "outputs": [
    {
     "name": "stdout",
     "output_type": "stream",
     "text": [
      "/home/nick/Documents/200ns/100ns/2\n",
      "[1.34945647]\n",
      "/home/nick/Documents/200ns/100ns/10\n",
      "[1.52930688]\n",
      "/home/nick/Documents/200ns/100ns/13\n",
      "[1.14178757]\n",
      "/home/nick/Documents/200ns/100ns/35\n",
      "[1.55917028]\n",
      "/home/nick/Documents/200ns/100ns/56\n",
      "[1.72217484]\n",
      "/home/nick/Documents/200ns/100ns/59\n",
      "[1.39625577]\n",
      "/home/nick/Documents/200ns/100ns/152\n",
      "[1.00432865]\n",
      "/home/nick/Documents/200ns/100ns/211\n",
      "[1.83522128]\n",
      "/home/nick/Documents/200ns/100ns/223\n",
      "[1.32106496]\n",
      "/home/nick/Documents/200ns/100ns/235\n",
      "[1.03152334]\n",
      "/home/nick/Documents/200ns/100ns/236\n",
      "[1.4957339]\n",
      "/home/nick/Documents/200ns/100ns/249\n",
      "[1.04491954]\n",
      "/home/nick/Documents/200ns/100ns/266\n",
      "[1.9961121]\n",
      "/home/nick/Documents/200ns/100ns/272\n",
      "[1.56317529]\n",
      "/home/nick/Documents/200ns/100ns/290\n",
      "[1.26919154]\n"
     ]
    }
   ],
   "source": [
    "import os\n",
    "import pytraj as pt\n",
    "import collections\n",
    "import pandas as pd\n",
    "\n",
    "\n",
    "# create an empty DataFrame to store the results\n",
    "columns = ['Radgyr_BB', 'Radgyr_NOH', 'Radgyr_CA', 'Radgyr_BS_CA', 'Radgyr_BS_BB', 'Radgyr_BS_NOH', 'RMSD_CA', 'RMSD_NOH', 'RMSD_BB', 'RMSD_BS_CA', 'RMSD_BS_NOH', 'RMSD_BS_BB', 'DSSP_0', 'DSSP_b', 'DSSP_B', 'DSSP_H', 'DSSP_I', 'DSSP_T', 'DSSP_S']\n",
    "results_200ns = pd.DataFrame(columns=columns)\n",
    "# iterate over subdirectories\n",
    "# Get a list of all directories in numerical order\n",
    "dir_list = sorted([d for d in os.listdir('/home/nick/Documents/200ns/100ns') if os.path.isdir(os.path.join('/home/nick/Documents/200ns/100ns', d))], key=lambda x: int(x))\n",
    "\n",
    "# Loop through all directories\n",
    "\n",
    "\n",
    "for dir, i in zip(dir_list,  clusters_200ns):\n",
    "    os.chdir(os.path.join('/home/nick/Documents/200ns/100ns', dir))\n",
    "    # load pdb file\n",
    "    traj = pt.iterload(\"md_0_1_noPBC.xtc\", \"first_frame.pdb\")\n",
    "    # print current directory\n",
    "    print(os.getcwd())\n",
    "\n",
    "\n",
    "    # select backbone atoms\n",
    "    radgyrBB = pt.radgyr(traj,  '@C,CA,N,O', frame_indices=[i])\n",
    "    # No H\n",
    "    radgyrNOH = pt.radgyr(traj, '!@H=', frame_indices=[i])\n",
    "    #Ca\n",
    "    radgyrCA = pt.radgyr(traj, '@CA', frame_indices=[i])\n",
    "\n",
    "    #### for bidning site ####\n",
    "\n",
    "    # CA\n",
    "    radgyrBSCA = pt.radgyr(traj, mask=':41,89,164,182,185,187,206,207,208,218&@CA', frame_indices=[i])\n",
    "\n",
    "    radgyrBSBB = pt.radgyr(traj, mask=':41,89,164,182,185,187,206,207,208,218&@C,CA,N,O', frame_indices=[i])\n",
    "\n",
    "    radgyrBSNOH = pt.radgyr(traj, mask=':41,89,164,182,185,187,206,207,208,218&!@H=', frame_indices=[i])\n",
    "\n",
    "    ###### RMSD #######################################################################\n",
    "    # RMSD\n",
    "\n",
    "    rmsdCA = pt.rmsd(traj, ref=0, mask='@CA', frame_indices=[i])\n",
    "    rmsdNOH = pt.rmsd(traj, ref=0, mask='@C,CA,N,O', frame_indices=[i])\n",
    "    rmsdBB = pt.rmsd(traj, ref=0, mask='!@H=', frame_indices=[i])\n",
    "\n",
    "    rmsdBSCA = pt.rmsd(traj, ref=0, mask=':41,89,164,182,185,187,206,207,208,218&@CA', frame_indices=[i])\n",
    "    rmsdBSNOH = pt.rmsd(traj, ref=0, mask=':41,89,164,182,185,187,206,207,208,218&@C,CA,N,O', frame_indices=[i])\n",
    "    rmsdBSBB = pt.rmsd(traj, ref=0, mask=':41,89,164,182,185,187,206,207,208,218&!@H=', frame_indices=[i])\n",
    "\n",
    "    ###### DSSP #######################################################################\n",
    "    # count the occurrences of each character\n",
    "    residues, ss, _ = pt.dssp(traj, frame_indices=[i])\n",
    "    char_list = ss[0].tolist()\n",
    "    # count the occurrences of each character\n",
    "    char_counts = collections.Counter(char_list)\n",
    "\n",
    "    # calculate the total number of characters\n",
    "    total_chars = sum(char_counts.values())\n",
    "\n",
    "    # calculate the percentage of each character\n",
    "    char_percentages = {char: (count / total_chars) * 100 for char, count in char_counts.items()}\n",
    "\n",
    "    dssp_0 = char_percentages.get('0', 0)\n",
    "    dssp_b = char_percentages.get('b', 0)\n",
    "    dssp_B = char_percentages.get('B', 0)\n",
    "    dssp_H = char_percentages.get('H', 0)\n",
    "    dssp_I = char_percentages.get('I', 0)\n",
    "    dssp_T = char_percentages.get('T', 0)\n",
    "    dssp_S = char_percentages.get('S', 0)\n",
    "\n",
    "\n",
    "    frame_results = {\n",
    "        'Radgyr_BB': radgyrBB[0],\n",
    "        'Radgyr_NOH': radgyrNOH[0],\n",
    "        'Radgyr_CA': radgyrCA[0],\n",
    "        'Radgyr_BS_CA': radgyrBSCA[0],\n",
    "        'Radgyr_BS_BB': radgyrBSBB[0],\n",
    "        'Radgyr_BS_NOH': radgyrBSNOH[0],\n",
    "        'RMSD_CA': rmsdCA[0],\n",
    "        'RMSD_NOH': rmsdNOH[0],\n",
    "        'RMSD_BB': rmsdBB[0],\n",
    "        'RMSD_BS_CA': rmsdBSCA[0],\n",
    "        'RMSD_BS_NOH': rmsdBSNOH[0],\n",
    "        'RMSD_BS_BB': rmsdBSBB[0],\n",
    "        'DSSP_0': dssp_0,\n",
    "        'DSSP_E': dssp_b,\n",
    "        'DSSP_C': dssp_B,\n",
    "        'DSSP_H': dssp_H,\n",
    "        'DSSP_I': dssp_I,\n",
    "        'DSSP_T': dssp_T,\n",
    "        'DSSP_S': dssp_S\n",
    "    }\n",
    "\n",
    "    # add the results for this frame to the DataFrame\n",
    "    results_200ns.loc[len(results_200ns)] = frame_results\n"
   ]
  },
  {
   "cell_type": "code",
   "execution_count": 210,
   "metadata": {
    "collapsed": false
   },
   "outputs": [
    {
     "name": "stdout",
     "output_type": "stream",
     "text": [
      "The difference between the means is not statistically significant.\n"
     ]
    },
    {
     "name": "stderr",
     "output_type": "stream",
     "text": [
      "/usr/ulocal/anaconda3/envs/mdthing/lib/python3.8/site-packages/numpy/core/fromnumeric.py:3462: FutureWarning: In a future version, DataFrame.mean(axis=None) will return a scalar mean over the entire DataFrame. To retain the old behavior, use 'frame.mean(axis=0)' or just 'frame.mean()'\n",
      "  return mean(axis=axis, dtype=dtype, out=out, **kwargs)\n",
      "/usr/ulocal/anaconda3/envs/mdthing/lib/python3.8/site-packages/numpy/core/fromnumeric.py:3462: FutureWarning: In a future version, DataFrame.mean(axis=None) will return a scalar mean over the entire DataFrame. To retain the old behavior, use 'frame.mean(axis=0)' or just 'frame.mean()'\n",
      "  return mean(axis=axis, dtype=dtype, out=out, **kwargs)\n"
     ]
    }
   ],
   "source": [
    "import numpy as np\n",
    "from scipy.stats import norm\n",
    "\n",
    "# Compute the means and standard deviations of the datasets\n",
    "mean1, mean2 = np.mean(results_10ns), np.mean(results_200ns)\n",
    "std1, std2 = np.std(results_10ns), np.std(results_200ns)\n",
    "\n",
    "# Compute the standard error of the difference between the means\n",
    "n1, n2 = len(results_10ns), len(results_200ns)\n",
    "SE = np.sqrt((std1**2/n1) + (std2**2/n2))\n",
    "\n",
    "# Compute the test statistic\n",
    "Z = (mean1 - mean2) / SE\n",
    "\n",
    "# Determine the critical value of the test statistic for the desired level of significance\n",
    "alpha = 0.05\n",
    "cv = norm.ppf(1 - alpha/2)\n",
    "\n",
    "# Compare the computed test statistic to the critical value\n",
    "if Z.abs().any() > cv:\n",
    "    print(\"The difference between the means is statistically significant.\")\n",
    "else:\n",
    "    print(\"The difference between the means is not statistically significant.\")\n"
   ]
  },
  {
   "cell_type": "code",
   "execution_count": 211,
   "metadata": {
    "collapsed": false
   },
   "outputs": [
    {
     "name": "stdout",
     "output_type": "stream",
     "text": [
      "1.959963984540054\n"
     ]
    }
   ],
   "source": [
    "print(cv)"
   ]
  },
  {
   "cell_type": "code",
   "execution_count": 213,
   "metadata": {
    "collapsed": false
   },
   "outputs": [
    {
     "name": "stdout",
     "output_type": "stream",
     "text": [
      "Radgyr_BB        0.573427\n",
      "Radgyr_NOH       1.289210\n",
      "Radgyr_CA        0.683700\n",
      "Radgyr_BS_CA     0.689630\n",
      "Radgyr_BS_BB     0.500152\n",
      "Radgyr_BS_NOH    1.078585\n",
      "RMSD_CA          1.550695\n",
      "RMSD_NOH         1.637769\n",
      "RMSD_BB          0.818503\n",
      "RMSD_BS_CA       0.475050\n",
      "RMSD_BS_NOH      0.341010\n",
      "RMSD_BS_BB       0.308742\n",
      "DSSP_0           0.257059\n",
      "DSSP_b                NaN\n",
      "DSSP_B                NaN\n",
      "DSSP_H           0.181270\n",
      "DSSP_I                NaN\n",
      "DSSP_T           1.557158\n",
      "DSSP_S           1.316262\n",
      "dtype: float64\n"
     ]
    }
   ],
   "source": [
    "print(Z.abs())"
   ]
  },
  {
   "cell_type": "code",
   "execution_count": 217,
   "metadata": {
    "collapsed": false
   },
   "outputs": [
    {
     "name": "stdout",
     "output_type": "stream",
     "text": [
      "Statictics: [-0.5539835  -1.24549516 -0.66051693 ...         nan  1.50435793\n",
      " -1.2716301 ]\n",
      "P-value: [0.58398777 0.22327206 0.51432004 ...        nan 0.14368672 0.21396605]\n",
      "The difference between the means is not statistically significant.\n",
      "The difference between the means is not statistically significant.\n",
      "The difference between the means is not statistically significant.\n",
      "The difference between the means is not statistically significant.\n",
      "The difference between the means is not statistically significant.\n",
      "The difference between the means is not statistically significant.\n",
      "The difference between the means is not statistically significant.\n",
      "The difference between the means is not statistically significant.\n",
      "The difference between the means is not statistically significant.\n",
      "The difference between the means is not statistically significant.\n",
      "The difference between the means is not statistically significant.\n",
      "The difference between the means is not statistically significant.\n",
      "The difference between the means is not statistically significant.\n",
      "The difference between the means is not statistically significant.\n",
      "The difference between the means is not statistically significant.\n",
      "The difference between the means is not statistically significant.\n",
      "The difference between the means is not statistically significant.\n",
      "The difference between the means is not statistically significant.\n",
      "The difference between the means is not statistically significant.\n"
     ]
    }
   ],
   "source": [
    "from scipy.stats import ttest_ind\n",
    "statistics, p_value = ttest_ind(results_10ns, results_200ns)\n",
    "print(f\"Statictics: {statistics}\")\n",
    "print(f\"P-value: {p_value}\")\n",
    "for i in p_value:\n",
    "    if i < 0.05:\n",
    "        print(f\"The difference between the means is statistically significant {i}.\")\n",
    "    else:\n",
    "        print(\"The difference between the means is not statistically significant.\")"
   ]
  },
  {
   "cell_type": "code",
   "execution_count": 194,
   "metadata": {
    "collapsed": false
   },
   "outputs": [
    {
     "name": "stdout",
     "output_type": "stream",
     "text": [
      "/home/nick/Documents/200ns/100ns/290\n",
      "[1.26919154]\n",
      "1.2691915414388393\n"
     ]
    }
   ],
   "source": [
    " os.chdir(os.path.join('/home/nick/Documents/200ns/100ns/290'))\n",
    "# load pdb file\n",
    "traj = pt.iterload(\"md_0_1_noPBC.xtc\", \"first_frame.pdb\")\n",
    "# print current directory\n",
    "print(os.getcwd())\n",
    "\n",
    "#\n",
    "# select backbone atoms\n",
    "rmsdCA = pt.rmsd(traj, ref=0, mask='@CA', frame_indices=[4377])\n",
    "print(rmsdCA)\n",
    "print(rmsdCA[0])"
   ]
  },
  {
   "cell_type": "code",
   "execution_count": 205,
   "metadata": {
    "collapsed": false
   },
   "outputs": [
    {
     "name": "stdout",
     "output_type": "stream",
     "text": [
      "16386 2\n",
      "9148 10\n",
      "13167 13\n",
      "8057 35\n",
      "12887 56\n",
      "15659 59\n",
      "8520 152\n",
      "16949 211\n",
      "13784 223\n",
      "10605 235\n",
      "13581 236\n",
      "12287 249\n",
      "9503 266\n",
      "8212 272\n",
      "4377 290\n"
     ]
    }
   ],
   "source": [
    "for dir, i in zip(dir_list,  clusters_200ns):\n",
    "    print(i, dir)"
   ]
  },
  {
   "cell_type": "code",
   "execution_count": 188,
   "metadata": {
    "collapsed": false
   },
   "outputs": [
    {
     "data": {
      "text/plain": [
       "Radgyr_BB        16.471670\n",
       "Radgyr_NOH       36.083194\n",
       "Radgyr_CA        16.488579\n",
       "Radgyr_BS_CA      7.524685\n",
       "Radgyr_BS_BB      7.968368\n",
       "Radgyr_BS_NOH     7.386379\n",
       "RMSD_CA           1.330417\n",
       "RMSD_NOH          1.338047\n",
       "RMSD_BB          49.544362\n",
       "RMSD_BS_CA        0.924024\n",
       "RMSD_BS_NOH       0.955099\n",
       "RMSD_BS_BB        1.506327\n",
       "DSSP_0           25.957447\n",
       "DSSP_b                 NaN\n",
       "DSSP_B                 NaN\n",
       "DSSP_H            5.957447\n",
       "DSSP_I            0.000000\n",
       "DSSP_T           20.425532\n",
       "DSSP_S           11.914894\n",
       "Name: 14, dtype: float64"
      ]
     },
     "execution_count": 188,
     "metadata": {},
     "output_type": "execute_result"
    }
   ],
   "source": [
    "results.iloc[-1]"
   ]
  }
 ],
 "metadata": {
  "kernelspec": {
   "display_name": "Python 3",
   "language": "python",
   "name": "python3"
  },
  "language_info": {
   "codemirror_mode": {
    "name": "ipython",
    "version": 2
   },
   "file_extension": ".py",
   "mimetype": "text/x-python",
   "name": "python",
   "nbconvert_exporter": "python",
   "pygments_lexer": "ipython2",
   "version": "2.7.6"
  }
 },
 "nbformat": 4,
 "nbformat_minor": 0
}
